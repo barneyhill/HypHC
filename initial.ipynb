{
 "cells": [
  {
   "cell_type": "code",
   "execution_count": 14,
   "metadata": {},
   "outputs": [],
   "source": [
    "\"\"\"Train a hyperbolic embedding model for hierarchical clustering.\"\"\"\n",
    "\n",
    "import argparse\n",
    "import json\n",
    "import logging\n",
    "import os\n",
    "\n",
    "import numpy as np\n",
    "import torch\n",
    "import torch.utils.data as data\n",
    "from tqdm import tqdm\n",
    "import matplotlib.pyplot as plt\n",
    "\n",
    "import optim\n",
    "from config import config_args\n",
    "from datasets.hc_dataset import HCDataset\n",
    "from datasets.loading import load_data\n",
    "from utils.poincare import project\n",
    "from model.hyphc import HypHC\n",
    "from utils.metrics import dasgupta_cost\n",
    "from utils.training import add_flags_from_config, get_savedir\n",
    "\n",
    "import scipy\n",
    "\n",
    "import msprime \n",
    "\n",
    "seed = 1234\n",
    "np.random.seed(seed)\n",
    "torch.manual_seed(seed)\n",
    "torch.set_default_dtype(torch.float64)\n",
    "\n",
    "ts = msprime.sim_ancestry(\n",
    "    samples=10,\n",
    "    population_size=10000,\n",
    "    ploidy=1,\n",
    "    recombination_rate=1E-8,\n",
    "    sequence_length=1000,\n",
    "    random_seed=seed,\n",
    "    model=msprime.StandardCoalescent(duration=1E8)\n",
    ")\n",
    "\n",
    "ts = msprime.sim_mutations(\n",
    "    ts, rate=1e-6, random_seed=seed, model=\"binary\",\n",
    ")"
   ]
  },
  {
   "cell_type": "code",
   "execution_count": 15,
   "metadata": {},
   "outputs": [],
   "source": [
    "batch_size = 1024\n",
    "epoch = 50\n",
    "learning_rate = 1e-2\n",
    "temperature = 5e-2\n",
    "eval_every = 1\n",
    "patience = 40\n",
    "anneal_every = 10\n",
    "anneal_factor = 0.5\n",
    "init_size = 0.05\n",
    "rank=4\n",
    "init_size = 1e-3,\n",
    "max_scale = 1 - 1e-3"
   ]
  },
  {
   "cell_type": "code",
   "execution_count": 16,
   "metadata": {},
   "outputs": [
    {
     "name": "stdout",
     "output_type": "stream",
     "text": [
      "Generating all pairs subset\n"
     ]
    }
   ],
   "source": [
    "# create ts dataset (n_sites, n_samples).T -> (n_samples, n_sites)\n",
    "h = ts.genotype_matrix().T\n",
    "# sample distance matrix (n_samples, n_samples)\n",
    "similarities = scipy.spatial.distance.pdist(h)\n",
    "similarities = scipy.spatial.distance.squareform(similarities)\n",
    "\n",
    "dataset = HCDataset(h, ts.samples(), similarities, num_samples=ts.num_samples)\n",
    "dataloader = data.DataLoader(dataset, batch_size=batch_size, shuffle=True, num_workers=1, pin_memory=False, persistent_workers=True)"
   ]
  },
  {
   "cell_type": "code",
   "execution_count": 17,
   "metadata": {},
   "outputs": [
    {
     "name": "stdout",
     "output_type": "stream",
     "text": [
      "Start training\n"
     ]
    },
    {
     "name": "stderr",
     "output_type": "stream",
     "text": [
      "100%|██████████| 1/1 [00:01<00:00,  1.02s/ex, loss=5.645914]\n",
      "100%|██████████| 1/1 [00:00<00:00, 313.38ex/s, loss=5.648924]\n",
      "100%|██████████| 1/1 [00:00<00:00, 367.53ex/s, loss=5.619994]\n",
      "100%|██████████| 1/1 [00:00<00:00, 327.55ex/s, loss=5.605768]\n",
      "100%|██████████| 1/1 [00:00<00:00, 265.68ex/s, loss=5.598900]\n",
      "100%|██████████| 1/1 [00:00<00:00, 288.17ex/s, loss=5.593901]\n",
      "100%|██████████| 1/1 [00:00<00:00, 342.00ex/s, loss=5.589819]\n",
      "100%|██████████| 1/1 [00:00<00:00, 383.15ex/s, loss=5.586409]\n",
      "100%|██████████| 1/1 [00:00<00:00, 378.82ex/s, loss=5.584067]\n",
      "100%|██████████| 1/1 [00:00<00:00, 274.78ex/s, loss=5.582714]\n"
     ]
    },
    {
     "name": "stdout",
     "output_type": "stream",
     "text": [
      "Annealing temperature to: 0.025\n",
      "Annealing learning rate to: 0.005\n"
     ]
    },
    {
     "name": "stderr",
     "output_type": "stream",
     "text": [
      "100%|██████████| 1/1 [00:00<00:00, 327.12ex/s, loss=5.507378]\n",
      "100%|██████████| 1/1 [00:00<00:00, 362.83ex/s, loss=5.504814]\n",
      "100%|██████████| 1/1 [00:00<00:00, 53.38ex/s, loss=5.501134]\n",
      "100%|██████████| 1/1 [00:00<00:00, 126.76ex/s, loss=5.498726]\n",
      "100%|██████████| 1/1 [00:00<00:00, 214.18ex/s, loss=5.496845]\n",
      "100%|██████████| 1/1 [00:00<00:00, 169.55ex/s, loss=5.495486]\n",
      "100%|██████████| 1/1 [00:00<00:00, 342.22ex/s, loss=5.494342]\n",
      "100%|██████████| 1/1 [00:00<00:00, 345.07ex/s, loss=5.494401]\n",
      "100%|██████████| 1/1 [00:00<00:00, 353.98ex/s, loss=5.493971]\n",
      "100%|██████████| 1/1 [00:00<00:00, 377.36ex/s, loss=5.492879]\n"
     ]
    },
    {
     "name": "stdout",
     "output_type": "stream",
     "text": [
      "Annealing temperature to: 0.0125\n",
      "Annealing learning rate to: 0.0025\n"
     ]
    },
    {
     "name": "stderr",
     "output_type": "stream",
     "text": [
      "100%|██████████| 1/1 [00:00<00:00, 337.73ex/s, loss=5.355431]\n",
      "100%|██████████| 1/1 [00:00<00:00, 400.18ex/s, loss=5.354745]\n",
      "100%|██████████| 1/1 [00:00<00:00, 252.40ex/s, loss=5.352965]\n",
      "100%|██████████| 1/1 [00:00<00:00, 350.26ex/s, loss=5.349926]\n",
      "100%|██████████| 1/1 [00:00<00:00, 355.39ex/s, loss=5.348591]\n",
      "100%|██████████| 1/1 [00:00<00:00, 328.73ex/s, loss=5.346712]\n",
      "100%|██████████| 1/1 [00:00<00:00, 265.65ex/s, loss=5.345445]\n",
      "100%|██████████| 1/1 [00:00<00:00, 309.13ex/s, loss=5.344533]\n",
      "100%|██████████| 1/1 [00:00<00:00, 376.64ex/s, loss=5.343192]\n",
      "100%|██████████| 1/1 [00:00<00:00, 359.72ex/s, loss=5.342561]\n"
     ]
    },
    {
     "name": "stdout",
     "output_type": "stream",
     "text": [
      "Annealing temperature to: 0.00625\n",
      "Annealing learning rate to: 0.00125\n"
     ]
    },
    {
     "name": "stderr",
     "output_type": "stream",
     "text": [
      "100%|██████████| 1/1 [00:00<00:00, 371.08ex/s, loss=5.169666]\n",
      "100%|██████████| 1/1 [00:00<00:00, 373.86ex/s, loss=5.167679]\n",
      "100%|██████████| 1/1 [00:00<00:00, 368.86ex/s, loss=5.165324]\n",
      "100%|██████████| 1/1 [00:00<00:00, 229.67ex/s, loss=5.162864]\n",
      "100%|██████████| 1/1 [00:00<00:00, 292.90ex/s, loss=5.160517]\n",
      "100%|██████████| 1/1 [00:00<00:00, 298.42ex/s, loss=5.159094]\n",
      "100%|██████████| 1/1 [00:00<00:00, 149.21ex/s, loss=5.157618]\n",
      "100%|██████████| 1/1 [00:00<00:00, 347.33ex/s, loss=5.155927]\n",
      "100%|██████████| 1/1 [00:00<00:00, 356.36ex/s, loss=5.154056]\n",
      "100%|██████████| 1/1 [00:00<00:00, 303.78ex/s, loss=5.152053]\n"
     ]
    },
    {
     "name": "stdout",
     "output_type": "stream",
     "text": [
      "Annealing temperature to: 0.003125\n",
      "Annealing learning rate to: 0.000625\n"
     ]
    },
    {
     "name": "stderr",
     "output_type": "stream",
     "text": [
      "100%|██████████| 1/1 [00:00<00:00, 320.32ex/s, loss=5.070238]\n",
      "100%|██████████| 1/1 [00:00<00:00, 354.64ex/s, loss=5.069293]\n",
      "100%|██████████| 1/1 [00:00<00:00, 415.28ex/s, loss=5.068289]\n",
      "100%|██████████| 1/1 [00:00<00:00, 381.54ex/s, loss=5.067254]\n",
      "100%|██████████| 1/1 [00:00<00:00, 338.77ex/s, loss=5.066210]\n",
      "100%|██████████| 1/1 [00:00<00:00, 238.67ex/s, loss=5.065174]\n",
      "100%|██████████| 1/1 [00:00<00:00, 287.69ex/s, loss=5.064157]\n",
      "100%|██████████| 1/1 [00:00<00:00, 369.15ex/s, loss=5.063167]\n",
      "100%|██████████| 1/1 [00:00<00:00, 116.79ex/s, loss=5.062212]\n",
      "100%|██████████| 1/1 [00:00<00:00, 312.91ex/s, loss=5.061295]"
     ]
    },
    {
     "name": "stdout",
     "output_type": "stream",
     "text": [
      "Annealing temperature to: 0.0015625\n",
      "Annealing learning rate to: 0.0003125\n"
     ]
    },
    {
     "name": "stderr",
     "output_type": "stream",
     "text": [
      "\n"
     ]
    },
    {
     "data": {
      "text/plain": [
       "HypHC(\n",
       "  (embeddings): Embedding(10, 4)\n",
       ")"
      ]
     },
     "execution_count": 17,
     "metadata": {},
     "output_type": "execute_result"
    }
   ],
   "source": [
    "\n",
    "# create model\n",
    "model = HypHC(dataset.n_nodes, rank, temperature, init_size, max_scale)\n",
    "\n",
    "# create optimizer\n",
    "optimizer = optim.RAdam(model.parameters(), learning_rate)\n",
    "\n",
    "# train model\n",
    "counter = 0\n",
    "print(\"Start training\")\n",
    "for epoch in range(epoch):\n",
    "    model.train()\n",
    "    total_loss = 0.0\n",
    "    with tqdm(total=len(dataloader), unit='ex') as bar:\n",
    "        for step, (triple_ids, triple_similarities) in enumerate(dataloader):\n",
    "            triple_ids = triple_ids\n",
    "            triple_similarities = triple_similarities\n",
    "            loss = model.loss(triple_ids, triple_similarities)\n",
    "            optimizer.zero_grad()\n",
    "            loss.backward()\n",
    "            optimizer.step()\n",
    "            bar.update(1)\n",
    "            bar.set_postfix(loss=f'{loss.item():.6f}')\n",
    "            total_loss += loss\n",
    "    total_loss = total_loss.item() / (step + 1.0)\n",
    "    \n",
    "    # anneal temperature\n",
    "    if (epoch + 1) % anneal_every == 0:\n",
    "        model.anneal_temperature(anneal_factor)\n",
    "        print(\"Annealing temperature to: {}\".format(model.temperature))\n",
    "        for param_group in optimizer.param_groups:\n",
    "            param_group['lr'] *= anneal_factor\n",
    "            lr = param_group['lr']\n",
    "        print(\"Annealing learning rate to: {}\".format(lr))\n",
    "\n",
    "# evaluation\n",
    "model.eval()"
   ]
  },
  {
   "cell_type": "code",
   "execution_count": 18,
   "metadata": {},
   "outputs": [],
   "source": [
    "tree = model.decode_tree(ts.samples(), fast_decoding=True)"
   ]
  },
  {
   "cell_type": "code",
   "execution_count": 19,
   "metadata": {},
   "outputs": [
    {
     "data": {
      "image/svg+xml": [
       "<svg baseProfile=\"full\" height=\"1000\" version=\"1.1\" width=\"1000\" xmlns=\"http://www.w3.org/2000/svg\" xmlns:ev=\"http://www.w3.org/2001/xml-events\" xmlns:xlink=\"http://www.w3.org/1999/xlink\"><defs><style type=\"text/css\"><![CDATA[.background path {fill: #808080; fill-opacity: 0}.background path:nth-child(odd) {fill-opacity: .1}.axes {font-size: 14px}.x-axis .tick .lab {font-weight: bold; dominant-baseline: hanging}.axes, .tree {font-size: 14px; text-anchor: middle}.axes line, .edge {stroke: black; fill: none}.axes .ax-skip {stroke-dasharray: 4}.y-axis .grid {stroke: #FAFAFA}.node > .sym {fill: black; stroke: none}.site > .sym {stroke: black}.mut text {fill: red; font-style: italic}.mut.extra text {fill: hotpink}.mut line {fill: none; stroke: none}.mut .sym {fill: none; stroke: red}.mut.extra .sym {stroke: hotpink}.node .mut .sym {stroke-width: 1.5px}.tree text, .tree-sequence text {dominant-baseline: central}.plotbox .lab.lft {text-anchor: end}.plotbox .lab.rgt {text-anchor: start}]]></style></defs><g class=\"tree-sequence\"><g class=\"background\"><path d=\"M20,0 l960,0 l0,938.2 l0,25 l0,5 l-960,0 l0,-5 l0,-25 l0,-938.2z\" /></g><g class=\"axes\"><g class=\"x-axis\"><g class=\"title\" transform=\"translate(500 1000)\"><text class=\"lab\" text-anchor=\"middle\" transform=\"translate(0 -11)\">Genome position</text></g><line class=\"ax-line\" x1=\"20\" x2=\"980\" y1=\"963.2\" y2=\"963.2\" /><g class=\"ticks\"><g class=\"tick\" transform=\"translate(20 963.2)\"><line x1=\"0\" x2=\"0\" y1=\"0\" y2=\"5\" /><g transform=\"translate(0 6)\"><text class=\"lab\">0</text></g></g><g class=\"tick\" transform=\"translate(980 963.2)\"><line x1=\"0\" x2=\"0\" y1=\"0\" y2=\"5\" /><g transform=\"translate(0 6)\"><text class=\"lab\">1</text></g></g></g></g></g><g class=\"plotbox trees\"><g class=\"tree t0\" transform=\"translate(20 0)\"><g class=\"plotbox\"><g class=\"c1 node n10 root\" transform=\"translate(66 742.48)\"><g class=\"a10 leaf node n0 sample\" transform=\"translate(0.0 178.92)\"><path class=\"edge\" d=\"M 0 0 V -178.92 H 0.0\" /><rect class=\"sym\" height=\"6\" width=\"6\" x=\"-3\" y=\"-3\" /><text class=\"lab\" transform=\"translate(0 11)\">0</text></g><circle class=\"sym\" cx=\"0\" cy=\"0\" r=\"3\" /><text class=\"lab\" transform=\"translate(0 -11)\">10</text></g><g class=\"c1 node n11 root\" transform=\"translate(158 742.48)\"><g class=\"a11 leaf node n1 sample\" transform=\"translate(0.0 178.92)\"><path class=\"edge\" d=\"M 0 0 V -178.92 H 0.0\" /><rect class=\"sym\" height=\"6\" width=\"6\" x=\"-3\" y=\"-3\" /><text class=\"lab\" transform=\"translate(0 11)\">1</text></g><circle class=\"sym\" cx=\"0\" cy=\"0\" r=\"3\" /><text class=\"lab\" transform=\"translate(0 -11)\">11</text></g><g class=\"c1 node n12 root\" transform=\"translate(250 742.48)\"><g class=\"a12 leaf node n2 sample\" transform=\"translate(0.0 178.92)\"><path class=\"edge\" d=\"M 0 0 V -178.92 H 0.0\" /><rect class=\"sym\" height=\"6\" width=\"6\" x=\"-3\" y=\"-3\" /><text class=\"lab\" transform=\"translate(0 11)\">2</text></g><circle class=\"sym\" cx=\"0\" cy=\"0\" r=\"3\" /><text class=\"lab\" transform=\"translate(0 -11)\">12</text></g><g class=\"c1 node n13 root\" transform=\"translate(342 742.48)\"><g class=\"a13 leaf node n3 sample\" transform=\"translate(0.0 178.92)\"><path class=\"edge\" d=\"M 0 0 V -178.92 H 0.0\" /><rect class=\"sym\" height=\"6\" width=\"6\" x=\"-3\" y=\"-3\" /><text class=\"lab\" transform=\"translate(0 11)\">3</text></g><circle class=\"sym\" cx=\"0\" cy=\"0\" r=\"3\" /><text class=\"lab\" transform=\"translate(0 -11)\">13</text></g><g class=\"c1 node n14 root\" transform=\"translate(434 742.48)\"><g class=\"a14 leaf node n4 sample\" transform=\"translate(0.0 178.92)\"><path class=\"edge\" d=\"M 0 0 V -178.92 H 0.0\" /><rect class=\"sym\" height=\"6\" width=\"6\" x=\"-3\" y=\"-3\" /><text class=\"lab\" transform=\"translate(0 11)\">4</text></g><circle class=\"sym\" cx=\"0\" cy=\"0\" r=\"3\" /><text class=\"lab\" transform=\"translate(0 -11)\">14</text></g><g class=\"c1 node n16 root\" transform=\"translate(526 742.48)\"><g class=\"a16 leaf node n6 sample\" transform=\"translate(0.0 178.92)\"><path class=\"edge\" d=\"M 0 0 V -178.92 H 0.0\" /><rect class=\"sym\" height=\"6\" width=\"6\" x=\"-3\" y=\"-3\" /><text class=\"lab\" transform=\"translate(0 11)\">6</text></g><circle class=\"sym\" cx=\"0\" cy=\"0\" r=\"3\" /><text class=\"lab\" transform=\"translate(0 -11)\">16</text></g><g class=\"c1 node n20 root\" transform=\"translate(618 563.56)\"><g class=\"a20 c1 node n15\" transform=\"translate(0.0 178.92)\"><g class=\"a15 leaf node n5 sample\" transform=\"translate(0.0 178.92)\"><path class=\"edge\" d=\"M 0 0 V -178.92 H 0.0\" /><rect class=\"sym\" height=\"6\" width=\"6\" x=\"-3\" y=\"-3\" /><text class=\"lab\" transform=\"translate(0 11)\">5</text></g><path class=\"edge\" d=\"M 0 0 V -178.92 H 0.0\" /><circle class=\"sym\" cx=\"0\" cy=\"0\" r=\"3\" /><text class=\"lab lft\" transform=\"translate(-3 -7.0)\">15</text></g><circle class=\"sym\" cx=\"0\" cy=\"0\" r=\"3\" /><text class=\"lab\" transform=\"translate(0 -11)\">20</text></g><g class=\"c1 node n22 root\" transform=\"translate(710 563.56)\"><g class=\"a22 c1 node n19\" transform=\"translate(0.0 178.92)\"><g class=\"a19 leaf node n9 sample\" transform=\"translate(0.0 178.92)\"><path class=\"edge\" d=\"M 0 0 V -178.92 H 0.0\" /><rect class=\"sym\" height=\"6\" width=\"6\" x=\"-3\" y=\"-3\" /><text class=\"lab\" transform=\"translate(0 11)\">9</text></g><path class=\"edge\" d=\"M 0 0 V -178.92 H 0.0\" /><circle class=\"sym\" cx=\"0\" cy=\"0\" r=\"3\" /><text class=\"lab lft\" transform=\"translate(-3 -7.0)\">19</text></g><circle class=\"sym\" cx=\"0\" cy=\"0\" r=\"3\" /><text class=\"lab\" transform=\"translate(0 -11)\">22</text></g><g class=\"c1 node n26 root\" transform=\"translate(802 384.64)\"><g class=\"a26 c1 node n21\" transform=\"translate(0.0 178.92)\"><g class=\"a21 c1 node n18\" transform=\"translate(0.0 178.92)\"><g class=\"a18 leaf node n8 sample\" transform=\"translate(0.0 178.92)\"><path class=\"edge\" d=\"M 0 0 V -178.92 H 0.0\" /><rect class=\"sym\" height=\"6\" width=\"6\" x=\"-3\" y=\"-3\" /><text class=\"lab\" transform=\"translate(0 11)\">8</text></g><path class=\"edge\" d=\"M 0 0 V -178.92 H 0.0\" /><circle class=\"sym\" cx=\"0\" cy=\"0\" r=\"3\" /><text class=\"lab lft\" transform=\"translate(-3 -7.0)\">18</text></g><path class=\"edge\" d=\"M 0 0 V -178.92 H 0.0\" /><circle class=\"sym\" cx=\"0\" cy=\"0\" r=\"3\" /><text class=\"lab lft\" transform=\"translate(-3 -7.0)\">21</text></g><circle class=\"sym\" cx=\"0\" cy=\"0\" r=\"3\" /><text class=\"lab\" transform=\"translate(0 -11)\">26</text></g><g class=\"c1 node n27 root\" transform=\"translate(894 26.8)\"><g class=\"a27 c1 node n25\" transform=\"translate(0.0 178.92)\"><g class=\"a25 c1 node n24\" transform=\"translate(0.0 178.92)\"><g class=\"a24 c1 node n23\" transform=\"translate(0.0 178.92)\"><g class=\"a23 c1 node n17\" transform=\"translate(0.0 178.92)\"><g class=\"a17 leaf node n7 sample\" transform=\"translate(0.0 178.92)\"><path class=\"edge\" d=\"M 0 0 V -178.92 H 0.0\" /><rect class=\"sym\" height=\"6\" width=\"6\" x=\"-3\" y=\"-3\" /><text class=\"lab\" transform=\"translate(0 11)\">7</text></g><path class=\"edge\" d=\"M 0 0 V -178.92 H 0.0\" /><circle class=\"sym\" cx=\"0\" cy=\"0\" r=\"3\" /><text class=\"lab lft\" transform=\"translate(-3 -7.0)\">17</text></g><path class=\"edge\" d=\"M 0 0 V -178.92 H 0.0\" /><circle class=\"sym\" cx=\"0\" cy=\"0\" r=\"3\" /><text class=\"lab lft\" transform=\"translate(-3 -7.0)\">23</text></g><path class=\"edge\" d=\"M 0 0 V -178.92 H 0.0\" /><circle class=\"sym\" cx=\"0\" cy=\"0\" r=\"3\" /><text class=\"lab lft\" transform=\"translate(-3 -7.0)\">24</text></g><path class=\"edge\" d=\"M 0 0 V -178.92 H 0.0\" /><circle class=\"sym\" cx=\"0\" cy=\"0\" r=\"3\" /><text class=\"lab lft\" transform=\"translate(-3 -7.0)\">25</text></g><circle class=\"sym\" cx=\"0\" cy=\"0\" r=\"3\" /><text class=\"lab\" transform=\"translate(0 -11)\">27</text></g></g></g></g></g></svg>"
      ],
      "text/plain": [
       "'<svg baseProfile=\"full\" height=\"1000\" version=\"1.1\" width=\"1000\" xmlns=\"http://www.w3.org/2000/svg\" xmlns:ev=\"http://www.w3.org/2001/xml-events\" xmlns:xlink=\"http://www.w3.org/1999/xlink\"><defs><style type=\"text/css\"><![CDATA[.background path {fill: #808080; fill-opacity: 0}.background path:nth-child(odd) {fill-opacity: .1}.axes {font-size: 14px}.x-axis .tick .lab {font-weight: bold; dominant-baseline: hanging}.axes, .tree {font-size: 14px; text-anchor: middle}.axes line, .edge {stroke: black; fill: none}.axes .ax-skip {stroke-dasharray: 4}.y-axis .grid {stroke: #FAFAFA}.node > .sym {fill: black; stroke: none}.site > .sym {stroke: black}.mut text {fill: red; font-style: italic}.mut.extra text {fill: hotpink}.mut line {fill: none; stroke: none}.mut .sym {fill: none; stroke: red}.mut.extra .sym {stroke: hotpink}.node .mut .sym {stroke-width: 1.5px}.tree text, .tree-sequence text {dominant-baseline: central}.plotbox .lab.lft {text-anchor: end}.plotbox .lab.rgt {text-anchor: start}]]></style></defs><g class=\"tree-sequence\"><g class=\"background\"><path d=\"M20,0 l960,0 l0,938.2 l0,25 l0,5 l-960,0 l0,-5 l0,-25 l0,-938.2z\" /></g><g class=\"axes\"><g class=\"x-axis\"><g class=\"title\" transform=\"translate(500 1000)\"><text class=\"lab\" text-anchor=\"middle\" transform=\"translate(0 -11)\">Genome position</text></g><line class=\"ax-line\" x1=\"20\" x2=\"980\" y1=\"963.2\" y2=\"963.2\" /><g class=\"ticks\"><g class=\"tick\" transform=\"translate(20 963.2)\"><line x1=\"0\" x2=\"0\" y1=\"0\" y2=\"5\" /><g transform=\"translate(0 6)\"><text class=\"lab\">0</text></g></g><g class=\"tick\" transform=\"translate(980 963.2)\"><line x1=\"0\" x2=\"0\" y1=\"0\" y2=\"5\" /><g transform=\"translate(0 6)\"><text class=\"lab\">1</text></g></g></g></g></g><g class=\"plotbox trees\"><g class=\"tree t0\" transform=\"translate(20 0)\"><g class=\"plotbox\"><g class=\"c1 node n10 root\" transform=\"translate(66 742.48)\"><g class=\"a10 leaf node n0 sample\" transform=\"translate(0.0 178.92)\"><path class=\"edge\" d=\"M 0 0 V -178.92 H 0.0\" /><rect class=\"sym\" height=\"6\" width=\"6\" x=\"-3\" y=\"-3\" /><text class=\"lab\" transform=\"translate(0 11)\">0</text></g><circle class=\"sym\" cx=\"0\" cy=\"0\" r=\"3\" /><text class=\"lab\" transform=\"translate(0 -11)\">10</text></g><g class=\"c1 node n11 root\" transform=\"translate(158 742.48)\"><g class=\"a11 leaf node n1 sample\" transform=\"translate(0.0 178.92)\"><path class=\"edge\" d=\"M 0 0 V -178.92 H 0.0\" /><rect class=\"sym\" height=\"6\" width=\"6\" x=\"-3\" y=\"-3\" /><text class=\"lab\" transform=\"translate(0 11)\">1</text></g><circle class=\"sym\" cx=\"0\" cy=\"0\" r=\"3\" /><text class=\"lab\" transform=\"translate(0 -11)\">11</text></g><g class=\"c1 node n12 root\" transform=\"translate(250 742.48)\"><g class=\"a12 leaf node n2 sample\" transform=\"translate(0.0 178.92)\"><path class=\"edge\" d=\"M 0 0 V -178.92 H 0.0\" /><rect class=\"sym\" height=\"6\" width=\"6\" x=\"-3\" y=\"-3\" /><text class=\"lab\" transform=\"translate(0 11)\">2</text></g><circle class=\"sym\" cx=\"0\" cy=\"0\" r=\"3\" /><text class=\"lab\" transform=\"translate(0 -11)\">12</text></g><g class=\"c1 node n13 root\" transform=\"translate(342 742.48)\"><g class=\"a13 leaf node n3 sample\" transform=\"translate(0.0 178.92)\"><path class=\"edge\" d=\"M 0 0 V -178.92 H 0.0\" /><rect class=\"sym\" height=\"6\" width=\"6\" x=\"-3\" y=\"-3\" /><text class=\"lab\" transform=\"translate(0 11)\">3</text></g><circle class=\"sym\" cx=\"0\" cy=\"0\" r=\"3\" /><text class=\"lab\" transform=\"translate(0 -11)\">13</text></g><g class=\"c1 node n14 root\" transform=\"translate(434 742.48)\"><g class=\"a14 leaf node n4 sample\" transform=\"translate(0.0 178.92)\"><path class=\"edge\" d=\"M 0 0 V -178.92 H 0.0\" /><rect class=\"sym\" height=\"6\" width=\"6\" x=\"-3\" y=\"-3\" /><text class=\"lab\" transform=\"translate(0 11)\">4</text></g><circle class=\"sym\" cx=\"0\" cy=\"0\" r=\"3\" /><text class=\"lab\" transform=\"translate(0 -11)\">14</text></g><g class=\"c1 node n16 root\" transform=\"translate(526 742.48)\"><g class=\"a16 leaf node n6 sample\" transform=\"translate(0.0 178.92)\"><path class=\"edge\" d=\"M 0 0 V -178.92 H 0.0\" /><rect class=\"sym\" height=\"6\" width=\"6\" x=\"-3\" y=\"-3\" /><text class=\"lab\" transform=\"translate(0 11)\">6</text></g><circle class=\"sym\" cx=\"0\" cy=\"0\" r=\"3\" /><text class=\"lab\" transform=\"translate(0 -11)\">16</text></g><g class=\"c1 node n20 root\" transform=\"translate(618 563.56)\"><g class=\"a20 c1 node n15\" transform=\"translate(0.0 178.92)\"><g class=\"a15 leaf node n5 sample\" transform=\"translate(0.0 178.92)\"><path class=\"edge\" d=\"M 0 0 V -178.92 H 0.0\" /><rect class=\"sym\" height=\"6\" width=\"6\" x=\"-3\" y=\"-3\" /><text class=\"lab\" transform=\"translate(0 11)\">5</text></g><path class=\"edge\" d=\"M 0 0 V -178.92 H 0.0\" /><circle class=\"sym\" cx=\"0\" cy=\"0\" r=\"3\" /><text class=\"lab lft\" transform=\"translate(-3 -7.0)\">15</text></g><circle class=\"sym\" cx=\"0\" cy=\"0\" r=\"3\" /><text class=\"lab\" transform=\"translate(0 -11)\">20</text></g><g class=\"c1 node n22 root\" transform=\"translate(710 563.56)\"><g class=\"a22 c1 node n19\" transform=\"translate(0.0 178.92)\"><g class=\"a19 leaf node n9 sample\" transform=\"translate(0.0 178.92)\"><path class=\"edge\" d=\"M 0 0 V -178.92 H 0.0\" /><rect class=\"sym\" height=\"6\" width=\"6\" x=\"-3\" y=\"-3\" /><text class=\"lab\" transform=\"translate(0 11)\">9</text></g><path class=\"edge\" d=\"M 0 0 V -178.92 H 0.0\" /><circle class=\"sym\" cx=\"0\" cy=\"0\" r=\"3\" /><text class=\"lab lft\" transform=\"translate(-3 -7.0)\">19</text></g><circle class=\"sym\" cx=\"0\" cy=\"0\" r=\"3\" /><text class=\"lab\" transform=\"translate(0 -11)\">22</text></g><g class=\"c1 node n26 root\" transform=\"translate(802 384.64)\"><g class=\"a26 c1 node n21\" transform=\"translate(0.0 178.92)\"><g class=\"a21 c1 node n18\" transform=\"translate(0.0 178.92)\"><g class=\"a18 leaf node n8 sample\" transform=\"translate(0.0 178.92)\"><path class=\"edge\" d=\"M 0 0 V -178.92 H 0.0\" /><rect class=\"sym\" height=\"6\" width=\"6\" x=\"-3\" y=\"-3\" /><text class=\"lab\" transform=\"translate(0 11)\">8</text></g><path class=\"edge\" d=\"M 0 0 V -178.92 H 0.0\" /><circle class=\"sym\" cx=\"0\" cy=\"0\" r=\"3\" /><text class=\"lab lft\" transform=\"translate(-3 -7.0)\">18</text></g><path class=\"edge\" d=\"M 0 0 V -178.92 H 0.0\" /><circle class=\"sym\" cx=\"0\" cy=\"0\" r=\"3\" /><text class=\"lab lft\" transform=\"translate(-3 -7.0)\">21</text></g><circle class=\"sym\" cx=\"0\" cy=\"0\" r=\"3\" /><text class=\"lab\" transform=\"translate(0 -11)\">26</text></g><g class=\"c1 node n27 root\" transform=\"translate(894 26.8)\"><g class=\"a27 c1 node n25\" transform=\"translate(0.0 178.92)\"><g class=\"a25 c1 node n24\" transform=\"translate(0.0 178.92)\"><g class=\"a24 c1 node n23\" transform=\"translate(0.0 178.92)\"><g class=\"a23 c1 node n17\" transform=\"translate(0.0 178.92)\"><g class=\"a17 leaf node n7 sample\" transform=\"translate(0.0 178.92)\"><path class=\"edge\" d=\"M 0 0 V -178.92 H 0.0\" /><rect class=\"sym\" height=\"6\" width=\"6\" x=\"-3\" y=\"-3\" /><text class=\"lab\" transform=\"translate(0 11)\">7</text></g><path class=\"edge\" d=\"M 0 0 V -178.92 H 0.0\" /><circle class=\"sym\" cx=\"0\" cy=\"0\" r=\"3\" /><text class=\"lab lft\" transform=\"translate(-3 -7.0)\">17</text></g><path class=\"edge\" d=\"M 0 0 V -178.92 H 0.0\" /><circle class=\"sym\" cx=\"0\" cy=\"0\" r=\"3\" /><text class=\"lab lft\" transform=\"translate(-3 -7.0)\">23</text></g><path class=\"edge\" d=\"M 0 0 V -178.92 H 0.0\" /><circle class=\"sym\" cx=\"0\" cy=\"0\" r=\"3\" /><text class=\"lab lft\" transform=\"translate(-3 -7.0)\">24</text></g><path class=\"edge\" d=\"M 0 0 V -178.92 H 0.0\" /><circle class=\"sym\" cx=\"0\" cy=\"0\" r=\"3\" /><text class=\"lab lft\" transform=\"translate(-3 -7.0)\">25</text></g><circle class=\"sym\" cx=\"0\" cy=\"0\" r=\"3\" /><text class=\"lab\" transform=\"translate(0 -11)\">27</text></g></g></g></g></g></svg>'"
      ]
     },
     "execution_count": 19,
     "metadata": {},
     "output_type": "execute_result"
    }
   ],
   "source": [
    "tree.draw_svg(size=(1000, 1000))"
   ]
  }
 ],
 "metadata": {
  "kernelspec": {
   "display_name": "hyphc",
   "language": "python",
   "name": "python3"
  },
  "language_info": {
   "codemirror_mode": {
    "name": "ipython",
    "version": 3
   },
   "file_extension": ".py",
   "mimetype": "text/x-python",
   "name": "python",
   "nbconvert_exporter": "python",
   "pygments_lexer": "ipython3",
   "version": "3.11.4"
  },
  "orig_nbformat": 4
 },
 "nbformat": 4,
 "nbformat_minor": 2
}
